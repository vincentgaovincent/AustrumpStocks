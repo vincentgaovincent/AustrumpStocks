{
 "cells": [
  {
   "cell_type": "code",
   "execution_count": null,
   "metadata": {},
   "outputs": [],
   "source": [
    "import pandas as pd\n",
    "import re\n",
    "from pathlib import Path\n",
    "\n",
    "pd.options.display.max_colwidth = 600  # Set Full Display\n",
    "\n",
    "# use r -- to avoid unicode error !\n",
    "file_path=Path(r'C:\\Users\\LEON\\austrump\\澳盛销售交流群_2.xlsx')"
   ]
  },
  {
   "cell_type": "code",
   "execution_count": null,
   "metadata": {},
   "outputs": [],
   "source": [
    "# file_path=Path(r'C:\\Users\\LEON\\austrump\\澳盛销售交流群_2.xlsx')"
   ]
  },
  {
   "cell_type": "code",
   "execution_count": null,
   "metadata": {},
   "outputs": [],
   "source": [
    "# file_path=Path(r'C:\\Users\\LEON\\austrump\\诺兰地产房源群Norland Property.xlsx')"
   ]
  },
  {
   "cell_type": "markdown",
   "metadata": {},
   "source": [
    "# Import Initial Data & Select Target Columns by Names:"
   ]
  },
  {
   "cell_type": "code",
   "execution_count": null,
   "metadata": {},
   "outputs": [],
   "source": [
    "\n",
    "df = pd.read_excel(file_path, parse_dates=True)\n",
    "df.dropna(inplace=True)\n",
    "df_origin = df[['时间','联系人','微信号','消息']]\n",
    "print(df_origin.info())"
   ]
  },
  {
   "cell_type": "markdown",
   "metadata": {},
   "source": [
    "# Select 新格式开始执行 时间 之后的 Data:"
   ]
  },
  {
   "cell_type": "code",
   "execution_count": null,
   "metadata": {},
   "outputs": [],
   "source": [
    "df_origin2=df_origin.loc[df_origin[\"时间\"]>='2022-02-21 16:28:52']\n",
    "print(df_origin2.info())\n",
    "df_origin2.head(2)"
   ]
  },
  {
   "cell_type": "markdown",
   "metadata": {},
   "source": [
    "# Filter Out Irrelevant Information:"
   ]
  },
  {
   "cell_type": "code",
   "execution_count": null,
   "metadata": {},
   "outputs": [],
   "source": [
    "df_origin3=df_origin2[df_origin2['消息'].str.contains('房源描述')] \n",
    "print(df_origin3.info())"
   ]
  },
  {
   "cell_type": "markdown",
   "metadata": {},
   "source": [
    "### Check & Drop Duplication:"
   ]
  },
  {
   "cell_type": "code",
   "execution_count": null,
   "metadata": {},
   "outputs": [],
   "source": [
    "check=df_origin3[\"消息\"].duplicated().sum()  # .item() convert numpy int to int\n",
    "print(f\"{check} 个 Duplicates\") "
   ]
  },
  {
   "cell_type": "code",
   "execution_count": null,
   "metadata": {},
   "outputs": [],
   "source": [
    "df_origin4=df_origin3.drop_duplicates(subset=\"消息\",keep='first')\n",
    "print(df_origin4.info())"
   ]
  },
  {
   "cell_type": "code",
   "execution_count": null,
   "metadata": {},
   "outputs": [],
   "source": [
    "df_origin4.head(5)"
   ]
  },
  {
   "cell_type": "markdown",
   "metadata": {},
   "source": [
    "# Split I： 拆开 -- 然后查看  房源描述 的 Duplicates:"
   ]
  },
  {
   "cell_type": "code",
   "execution_count": null,
   "metadata": {},
   "outputs": [],
   "source": [
    "df1= df_origin4['消息'].str.split('【房源描述】',expand=True)\n",
    "df1.columns=[\"a\",\"b\"] # Create new name\n",
    "\n",
    "print(df1.info())\n"
   ]
  },
  {
   "cell_type": "markdown",
   "metadata": {},
   "source": [
    "### Check Null:"
   ]
  },
  {
   "cell_type": "code",
   "execution_count": null,
   "metadata": {},
   "outputs": [],
   "source": [
    "df1[df1[\"b\"].isnull()]\n"
   ]
  },
  {
   "cell_type": "markdown",
   "metadata": {},
   "source": [
    "### b 列 中没有的值 copy a列的: 特别注意！"
   ]
  },
  {
   "cell_type": "code",
   "execution_count": null,
   "metadata": {},
   "outputs": [],
   "source": [
    "df1.loc[df1[\"b\"].isnull(), \"b\"]=df1[\"a\"]\n",
    "print(df1.info())\n"
   ]
  },
  {
   "cell_type": "markdown",
   "metadata": {},
   "source": [
    "# Concat: pd.concat([df1, df2], axis=1): df_core3"
   ]
  },
  {
   "cell_type": "code",
   "execution_count": null,
   "metadata": {},
   "outputs": [],
   "source": [
    "df_core=pd.concat([df_origin4,df1],axis=1)\n",
    "\n",
    "print(df_core.info())\n",
    "df_core.sample(3)"
   ]
  },
  {
   "cell_type": "markdown",
   "metadata": {},
   "source": [
    "### Check Null:"
   ]
  },
  {
   "cell_type": "code",
   "execution_count": null,
   "metadata": {},
   "outputs": [],
   "source": [
    "df_core[df_core[\"b\"].isnull()]"
   ]
  },
  {
   "cell_type": "markdown",
   "metadata": {},
   "source": [
    "PS: 【房源描述  --  所以没有被分割出来！！！！！！"
   ]
  },
  {
   "cell_type": "code",
   "execution_count": null,
   "metadata": {},
   "outputs": [],
   "source": [
    "\n",
    "df_core2 = df_core.drop(columns=[\"消息\"])\n",
    "df_core2.columns=['时间','联系人','微信号','目标','房源描述']  #改名\n",
    "\n",
    "print(df_core2.info())\n",
    "df_core2.sample(2)\n",
    "\n"
   ]
  },
  {
   "cell_type": "markdown",
   "metadata": {},
   "source": [
    "# 查看 房源描述 的 Duplicates: df_core3"
   ]
  },
  {
   "cell_type": "code",
   "execution_count": null,
   "metadata": {},
   "outputs": [],
   "source": [
    "check2=df_core2[\"房源描述\"].duplicated().sum()  # .item() convert numpy int to int\n",
    "print(f\"{check2} 个 Duplicates\") "
   ]
  },
  {
   "cell_type": "code",
   "execution_count": null,
   "metadata": {},
   "outputs": [],
   "source": [
    "df_core3=df_core2.drop_duplicates(subset=\"房源描述\")\n",
    "print(df_core3.info())"
   ]
  },
  {
   "cell_type": "markdown",
   "metadata": {},
   "source": [
    "# Split II： 把目标 弄出来"
   ]
  },
  {
   "cell_type": "markdown",
   "metadata": {},
   "source": [
    "PS：无法 Extract 因为没有规律！！"
   ]
  },
  {
   "cell_type": "markdown",
   "metadata": {},
   "source": [
    "Step 1: 先 Split 一部分 Extract 地址："
   ]
  },
  {
   "cell_type": "code",
   "execution_count": null,
   "metadata": {},
   "outputs": [],
   "source": [
    "df_core4= df_core3['目标'].str.split('【项目地址】',expand=True).rename(columns={0:\"drop\",1:\"目标1\",2:\"目标2\"}).drop(columns=[\"drop\"])\n",
    "\n",
    "print(df_core4.info())\n",
    "df_core4.head()\n"
   ]
  },
  {
   "cell_type": "markdown",
   "metadata": {},
   "source": [
    "# Split II：Check Missing Value Part I -- notNull: df_core4 目标1 --copy to 目标2"
   ]
  },
  {
   "cell_type": "code",
   "execution_count": null,
   "metadata": {},
   "outputs": [],
   "source": [
    "df_core4[df_core4[\"目标2\"].notnull()]"
   ]
  },
  {
   "cell_type": "markdown",
   "metadata": {},
   "source": [
    "PS：index 34824 和 34976 目标位置不对，那我们把所有的值 copy 到 目标2"
   ]
  },
  {
   "cell_type": "code",
   "execution_count": null,
   "metadata": {},
   "outputs": [],
   "source": [
    "df_core4.loc[df_core4[\"目标2\"].isnull(),\"目标2\"]=df_core4[\"目标1\"]\n",
    "print(df_core4.info())\n",
    "display(df_core4[df_core4[\"目标2\"].notnull()].sample(3))"
   ]
  },
  {
   "cell_type": "markdown",
   "metadata": {},
   "source": [
    "# Split II：Check missing value : df_core4\n"
   ]
  },
  {
   "cell_type": "markdown",
   "metadata": {},
   "source": [
    "非常注意: 5个MISSSING （153 减去 148） !! 但无法在 df_core4内部 copy，需要对比 df_core3，留在 concat之后"
   ]
  },
  {
   "cell_type": "code",
   "execution_count": null,
   "metadata": {},
   "outputs": [],
   "source": [
    "df_core4[df_core4[\"目标1\"].isnull()]"
   ]
  },
  {
   "cell_type": "markdown",
   "metadata": {},
   "source": [
    "Find missed value in original df:"
   ]
  },
  {
   "cell_type": "markdown",
   "metadata": {},
   "source": [
    "PS: 非常注意 iloc or loc --- select index\n",
    "\n",
    "PS: 而用 .index() -- row number"
   ]
  },
  {
   "cell_type": "code",
   "execution_count": null,
   "metadata": {},
   "outputs": [],
   "source": [
    "df_core2.loc[[34836,34909,34910,34913,35550]]"
   ]
  },
  {
   "cell_type": "markdown",
   "metadata": {},
   "source": [
    "Compare:"
   ]
  },
  {
   "cell_type": "code",
   "execution_count": null,
   "metadata": {},
   "outputs": [],
   "source": [
    "df_core2.loc[[35738,34217]]"
   ]
  },
  {
   "cell_type": "markdown",
   "metadata": {},
   "source": [
    "# Concat II: pd.concat([df1, df2], axis=1): df_core5"
   ]
  },
  {
   "cell_type": "code",
   "execution_count": null,
   "metadata": {},
   "outputs": [],
   "source": [
    "df_core5=pd.concat([df_core3,df_core4],axis=1)\n",
    "\n",
    "print(df_core5.info())\n"
   ]
  },
  {
   "cell_type": "markdown",
   "metadata": {},
   "source": [
    "继续 Check Missing Value:"
   ]
  },
  {
   "cell_type": "code",
   "execution_count": null,
   "metadata": {},
   "outputs": [],
   "source": [
    "df_core5[df_core5[\"目标2\"].isnull()]"
   ]
  },
  {
   "cell_type": "markdown",
   "metadata": {},
   "source": [
    "# Concat II: Missing Value Part II -- 目标 -- copy to 目标2, drop duplicates -- df_core6"
   ]
  },
  {
   "cell_type": "code",
   "execution_count": null,
   "metadata": {},
   "outputs": [],
   "source": [
    "df_core5[df_core5[\"目标2\"].notnull()].head(1)"
   ]
  },
  {
   "cell_type": "code",
   "execution_count": null,
   "metadata": {},
   "outputs": [],
   "source": [
    "df_core5.loc[df_core5[\"目标2\"].isnull(),\"目标2\"]=df_core5[\"目标\"]\n",
    "print(df_core5.info())"
   ]
  },
  {
   "cell_type": "markdown",
   "metadata": {},
   "source": [
    "### 查看 目标2 的 Duplicates:"
   ]
  },
  {
   "cell_type": "code",
   "execution_count": null,
   "metadata": {},
   "outputs": [],
   "source": [
    "check3=df_core5[\"目标2\"].duplicated().sum()  # .item() convert numpy int to int\n",
    "print(f\"{check3} 个 Duplicates\") "
   ]
  },
  {
   "cell_type": "code",
   "execution_count": null,
   "metadata": {},
   "outputs": [],
   "source": [
    "df_core6=df_core5.drop_duplicates(subset=\"目标2\")\n",
    "print(df_core6.info())"
   ]
  },
  {
   "cell_type": "markdown",
   "metadata": {},
   "source": [
    "# Split III： 处理 目标2 再 分解： df_core7"
   ]
  },
  {
   "cell_type": "code",
   "execution_count": null,
   "metadata": {},
   "outputs": [],
   "source": [
    "df_core7= df_core6['目标2'].str.split('【\\S+】',expand=True).rename(columns={0:\"地址\",1:\"信息1\",2:\"信息2\",3:\"信息3\",4:\"信息4\",5:\"信息5\",6:\"信息6\"})\n",
    "\n",
    "print(df_core7.info())\n",
    "df_core7.head()"
   ]
  },
  {
   "cell_type": "code",
   "execution_count": null,
   "metadata": {},
   "outputs": [],
   "source": [
    "# df_core7.loc[df_core7[\"信息6\"].notnull()]"
   ]
  },
  {
   "cell_type": "markdown",
   "metadata": {},
   "source": [
    "# Concat III: pd.concat([df1, df2], axis=1):"
   ]
  },
  {
   "cell_type": "code",
   "execution_count": null,
   "metadata": {},
   "outputs": [],
   "source": [
    "df_final=pd.concat([df_core6,df_core7],axis=1)\n",
    "print(df_final.info())\n"
   ]
  },
  {
   "cell_type": "markdown",
   "metadata": {},
   "source": [
    "PS: 再 drop 目标，目标1，目标2，改变房源描述的位置：\n",
    "\n",
    "PS: Summary:\n",
    "\n",
    "1. 房源描述缺少一个，是因为有一个 【] 所以无法 split\n",
    "\n",
    "2. 信息1 -- 信息6， 因为不规律， 无法 extract"
   ]
  },
  {
   "cell_type": "markdown",
   "metadata": {},
   "source": [
    "# Clean Up: drop \"目标\"（已处理），改变column顺序：地址，房源描述：df_final3"
   ]
  },
  {
   "cell_type": "code",
   "execution_count": null,
   "metadata": {},
   "outputs": [],
   "source": [
    "df_final2= df_final.drop(columns=[\"目标\",\"目标1\",\"目标2\"])\n",
    "print(df_final2.info())"
   ]
  },
  {
   "cell_type": "code",
   "execution_count": null,
   "metadata": {},
   "outputs": [],
   "source": [
    "df_final3 = df_final2[[\"地址\",\"时间\",\"联系人\",\"微信号\",\"信息1\",\"信息2\",\"信息3\",\"信息4\",\"信息5\",\"信息6\",\"房源描述\"]]\n",
    "df_final3.sample(3)"
   ]
  },
  {
   "cell_type": "markdown",
   "metadata": {},
   "source": [
    "# Check 残留 -- 信息1：中还有地址"
   ]
  },
  {
   "cell_type": "code",
   "execution_count": null,
   "metadata": {},
   "outputs": [],
   "source": [
    "df_final3[df_final3[\"信息1\"].str.contains(\"项目地址\")]"
   ]
  },
  {
   "cell_type": "code",
   "execution_count": null,
   "metadata": {},
   "outputs": [],
   "source": [
    "df_final3.loc[df_final3[\"信息1\"].str.contains(\"项目地址\"),\"地址\"]=df_final3[\"信息1\"]"
   ]
  },
  {
   "cell_type": "code",
   "execution_count": null,
   "metadata": {},
   "outputs": [],
   "source": [
    "df_final3[df_final3[\"信息1\"].str.contains(\"项目地址\")]"
   ]
  },
  {
   "cell_type": "markdown",
   "metadata": {},
   "source": [
    "# Clean index column:"
   ]
  },
  {
   "cell_type": "code",
   "execution_count": null,
   "metadata": {},
   "outputs": [],
   "source": [
    "df_final4 = df_final3.reset_index(drop=True)\n",
    "df_final4.sample(1)"
   ]
  },
  {
   "cell_type": "markdown",
   "metadata": {},
   "source": [
    "# 测试学习："
   ]
  },
  {
   "cell_type": "markdown",
   "metadata": {},
   "source": [
    "remove:\n",
    "1. \" * \" 号   \" 。\"号  \" | \" 号 -- OK\n",
    "\n",
    "2. 中文\n",
    "\n",
    "3. \" ( xxx ) \" 包含  -- PS： 两种，英文括号，中文括号  -- OK\n",
    "\n",
    "4. \" * xxx * \"  包含  -- OK \n",
    "\n",
    "drop: 地址中包含：\n",
    "1. 空白 -- 没有英文的  -- 虽然空白被认为不是 null, 但不含英文肯定不是 -- OK\n",
    "\n",
    "2. <> -- OK "
   ]
  },
  {
   "cell_type": "markdown",
   "metadata": {},
   "source": [
    "PS：测试 = 正确"
   ]
  },
  {
   "cell_type": "code",
   "execution_count": null,
   "metadata": {},
   "outputs": [],
   "source": [
    "df_final4[\"地址\"].str.contains(\"\\*+\").sum()"
   ]
  },
  {
   "cell_type": "code",
   "execution_count": null,
   "metadata": {},
   "outputs": [],
   "source": [
    "df_final4[df_final4[\"地址\"].str.contains(\"\\*+\")]"
   ]
  },
  {
   "cell_type": "markdown",
   "metadata": {},
   "source": [
    "PS：测试 = 正确"
   ]
  },
  {
   "cell_type": "code",
   "execution_count": null,
   "metadata": {},
   "outputs": [],
   "source": [
    "df_final4[\"地址\"].str.contains(\"\\。\").sum()"
   ]
  },
  {
   "cell_type": "code",
   "execution_count": null,
   "metadata": {},
   "outputs": [],
   "source": [
    "df_final4[df_final4[\"地址\"].str.contains(\"\\。+\")]"
   ]
  },
  {
   "cell_type": "markdown",
   "metadata": {},
   "source": [
    "PS：测试 = 正确"
   ]
  },
  {
   "cell_type": "code",
   "execution_count": null,
   "metadata": {},
   "outputs": [],
   "source": [
    "df_final4[\"地址\"].str.contains(\"\\|+\").sum()"
   ]
  },
  {
   "cell_type": "code",
   "execution_count": null,
   "metadata": {},
   "outputs": [],
   "source": [
    "df_final4[\"地址\"].str.contains(r\"\\(\\D+\\)\").sum()"
   ]
  },
  {
   "cell_type": "code",
   "execution_count": null,
   "metadata": {},
   "outputs": [],
   "source": [
    "df_final4[df_final4[\"地址\"].str.contains(\"【\")]"
   ]
  },
  {
   "cell_type": "code",
   "execution_count": null,
   "metadata": {},
   "outputs": [],
   "source": [
    "df_final4[df_final4[\"地址\"].str.contains(\"]\")]"
   ]
  },
  {
   "cell_type": "markdown",
   "metadata": {},
   "source": [
    "PS: <...> 表情乱码，测试 = 正确"
   ]
  },
  {
   "cell_type": "code",
   "execution_count": null,
   "metadata": {},
   "outputs": [],
   "source": [
    "df_final4[\"地址\"].str.contains(r\"\\<msg>\").sum()"
   ]
  },
  {
   "cell_type": "markdown",
   "metadata": {},
   "source": [
    "OR:"
   ]
  },
  {
   "cell_type": "code",
   "execution_count": null,
   "metadata": {},
   "outputs": [],
   "source": [
    "df_final4[\"地址\"].str.contains(r\"\\<title>\").sum()"
   ]
  },
  {
   "cell_type": "markdown",
   "metadata": {},
   "source": [
    "OR:"
   ]
  },
  {
   "cell_type": "code",
   "execution_count": null,
   "metadata": {},
   "outputs": [],
   "source": [
    "df_final4[df_final4[\"地址\"].str.contains(r\"\\<\\S+>\")]"
   ]
  },
  {
   "cell_type": "markdown",
   "metadata": {},
   "source": [
    "PS: 中文 、 英文括号 = 5个 = 正确"
   ]
  },
  {
   "cell_type": "code",
   "execution_count": null,
   "metadata": {},
   "outputs": [],
   "source": [
    "df_final4[df_final4[\"地址\"].str.contains(r\"\\（\\D+\\）\")]"
   ]
  },
  {
   "cell_type": "code",
   "execution_count": null,
   "metadata": {},
   "outputs": [],
   "source": [
    "df_final4[df_final4[\"地址\"].str.contains(r\"\\(\\D+\\)\")]"
   ]
  },
  {
   "cell_type": "markdown",
   "metadata": {},
   "source": [
    "PS: \" * xxx  * \"= 5个 = 正确"
   ]
  },
  {
   "cell_type": "code",
   "execution_count": null,
   "metadata": {},
   "outputs": [],
   "source": [
    "df_final4[df_final4[\"地址\"].str.contains(r\"\\*\\D+\\*\")]"
   ]
  },
  {
   "cell_type": "markdown",
   "metadata": {},
   "source": [
    "PS: 找到 空白 消息 = 正确！\n",
    "\n",
    "非常注意：Map 会过滤掉，所以不要紧！！\n",
    "\n",
    "非常注意：不包含 ！！！ 用 ~ ！！！ "
   ]
  },
  {
   "cell_type": "code",
   "execution_count": null,
   "metadata": {},
   "outputs": [],
   "source": [
    "df_final4[~df_final4[\"地址\"].str.contains(\"[a-zA-Z0-9]\")]"
   ]
  },
  {
   "cell_type": "markdown",
   "metadata": {},
   "source": [
    "PS: 测试 是否包含中文："
   ]
  },
  {
   "cell_type": "code",
   "execution_count": null,
   "metadata": {},
   "outputs": [],
   "source": [
    "df_final4[df_final4[\"地址\"].str.contains(u\"[\\u4e00-\\u9fff]+\")]"
   ]
  },
  {
   "cell_type": "markdown",
   "metadata": {},
   "source": [
    "# Clean 地址中 怪异符号，Drop 错误信息："
   ]
  },
  {
   "cell_type": "code",
   "execution_count": null,
   "metadata": {},
   "outputs": [],
   "source": [
    "replace_char = r'\\(\\D+\\）|\\（\\D+\\)|\\(\\D+\\)|\\（\\D+\\）|\\*|\\。|\\||\\【|\\】|\\[|\\]|\\<\\S+>|\\*\\D+\\*|[\\u4e00-\\u9fff]'\n",
    "replace_char"
   ]
  },
  {
   "cell_type": "code",
   "execution_count": null,
   "metadata": {},
   "outputs": [],
   "source": [
    "df_final4[\"地址\"]=df_final4[\"地址\"].str.replace(replace_char,\"\")"
   ]
  },
  {
   "cell_type": "markdown",
   "metadata": {},
   "source": [
    "# Check Again:"
   ]
  },
  {
   "cell_type": "code",
   "execution_count": null,
   "metadata": {},
   "outputs": [],
   "source": [
    "df_final4[\"地址\"].str.contains(\"\\。+\").sum()\n"
   ]
  },
  {
   "cell_type": "code",
   "execution_count": null,
   "metadata": {},
   "outputs": [],
   "source": [
    "df_final4[df_final4[\"地址\"].str.contains(\"\\。+\")]"
   ]
  },
  {
   "cell_type": "code",
   "execution_count": null,
   "metadata": {},
   "outputs": [],
   "source": [
    "df_final4[\"地址\"].str.contains(\"\\|+\").sum()"
   ]
  },
  {
   "cell_type": "code",
   "execution_count": null,
   "metadata": {},
   "outputs": [],
   "source": [
    "df_final4[\"地址\"].str.contains(\"\\*+\").sum()"
   ]
  },
  {
   "cell_type": "code",
   "execution_count": null,
   "metadata": {},
   "outputs": [],
   "source": [
    "df_final4[\"地址\"].str.contains(\"\\【+\").sum()"
   ]
  },
  {
   "cell_type": "code",
   "execution_count": null,
   "metadata": {},
   "outputs": [],
   "source": [
    "df_final4[\"地址\"].str.contains(\"\\]+\").sum()"
   ]
  },
  {
   "cell_type": "code",
   "execution_count": null,
   "metadata": {},
   "outputs": [],
   "source": [
    "df_final4[\"地址\"].str.contains(r\"\\<\\S+>\").sum()"
   ]
  },
  {
   "cell_type": "code",
   "execution_count": null,
   "metadata": {},
   "outputs": [],
   "source": [
    "df_final4[\"地址\"].str.contains(r\"\\（\\D+\\）\").sum()"
   ]
  },
  {
   "cell_type": "code",
   "execution_count": null,
   "metadata": {},
   "outputs": [],
   "source": [
    "df_final4[\"地址\"].str.contains(r\"\\(\\D+\\)\").sum()"
   ]
  },
  {
   "cell_type": "code",
   "execution_count": null,
   "metadata": {},
   "outputs": [],
   "source": [
    "df_final4[df_final4[\"地址\"].str.contains(r\"\\(\\D+\\)\")]"
   ]
  },
  {
   "cell_type": "code",
   "execution_count": null,
   "metadata": {},
   "outputs": [],
   "source": [
    "df_final4[\"地址\"].str.contains(r\"\\*\\D+\\*\").sum()"
   ]
  },
  {
   "cell_type": "code",
   "execution_count": null,
   "metadata": {},
   "outputs": [],
   "source": [
    "df_final4[\"地址\"].str.contains(u\"[\\u4e00-\\u9fff]+\").sum()"
   ]
  },
  {
   "cell_type": "code",
   "execution_count": null,
   "metadata": {},
   "outputs": [],
   "source": [
    "df_final4[df_final4[\"地址\"].str.contains(u\"[\\u4e00-\\u9fff]+\")]"
   ]
  },
  {
   "cell_type": "markdown",
   "metadata": {},
   "source": [
    "# 根据 Map 要求， unit1/2xxx 需要空格 unit1/ 2xxxx"
   ]
  },
  {
   "cell_type": "markdown",
   "metadata": {},
   "source": [
    "总共："
   ]
  },
  {
   "cell_type": "code",
   "execution_count": null,
   "metadata": {},
   "outputs": [],
   "source": [
    "\n",
    "df_final4[\"地址\"].str.contains(\"/\").sum()"
   ]
  },
  {
   "cell_type": "markdown",
   "metadata": {},
   "source": [
    "有空格的："
   ]
  },
  {
   "cell_type": "code",
   "execution_count": null,
   "metadata": {},
   "outputs": [],
   "source": [
    "df_final4[\"地址\"].str.contains(\"/ \").sum()"
   ]
  },
  {
   "cell_type": "code",
   "execution_count": null,
   "metadata": {},
   "outputs": [],
   "source": [
    "df_final4[\"地址\"].str.contains(\" /\").sum()"
   ]
  },
  {
   "cell_type": "markdown",
   "metadata": {},
   "source": [
    "其中这个被算了 2次："
   ]
  },
  {
   "cell_type": "code",
   "execution_count": null,
   "metadata": {},
   "outputs": [],
   "source": [
    "df_final4[\"地址\"].str.contains(\" / \").sum()"
   ]
  },
  {
   "cell_type": "markdown",
   "metadata": {},
   "source": [
    "完全没有空格的： 没有空格"
   ]
  },
  {
   "cell_type": "code",
   "execution_count": null,
   "metadata": {},
   "outputs": [],
   "source": [
    "df_final4[\"地址\"].str.contains(r\"\\S+/\\S+\").sum()"
   ]
  },
  {
   "cell_type": "markdown",
   "metadata": {},
   "source": [
    "Replace:"
   ]
  },
  {
   "cell_type": "code",
   "execution_count": null,
   "metadata": {},
   "outputs": [],
   "source": [
    "df_final4[\"地址\"]=df_final4[\"地址\"].str.replace(\"/\",\"  /  \")"
   ]
  },
  {
   "cell_type": "code",
   "execution_count": null,
   "metadata": {},
   "outputs": [],
   "source": [
    "df_final4[\"地址\"].str.contains(r\"\\S+/\\S+\").sum()"
   ]
  },
  {
   "cell_type": "markdown",
   "metadata": {},
   "source": [
    "# Inspection:"
   ]
  },
  {
   "cell_type": "code",
   "execution_count": null,
   "metadata": {},
   "outputs": [],
   "source": [
    "# df_final4.sample(10)\n",
    "df_final4.info()"
   ]
  },
  {
   "cell_type": "markdown",
   "metadata": {},
   "source": [
    "# To Excel:"
   ]
  },
  {
   "cell_type": "code",
   "execution_count": null,
   "metadata": {},
   "outputs": [],
   "source": [
    "# create excel writer object\n",
    "writer=pd.ExcelWriter('Vicent_VerA_Output.xlsx')\n",
    "# write dataframe to excel\n",
    "df_final4.to_excel(writer, index=False)\n",
    "# save the excel\n",
    "writer.save()\n",
    "print('DataFrame is written successfully to Excel File.')"
   ]
  },
  {
   "cell_type": "markdown",
   "metadata": {},
   "source": [
    "# Summary:"
   ]
  },
  {
   "cell_type": "markdown",
   "metadata": {},
   "source": [
    "注意：\n",
    "\n",
    "1. 地址挤在一个 cell 肯定不行\n",
    "\n",
    "2. 庄园，商铺，如果格式不对，也不行\n",
    "\n",
    "3. 如果大型项目可以被 google 出来，可以不需要输入地址,比如 Deanside Attwell\n",
    "\n",
    "\n",
    "1. Map 需要打开，然后人工点击每个 cell，就能读出地址\n",
    "\n",
    "问题：\n",
    "1. Map -- 多个点 在一个位置 \n",
    "\n",
    "解决：\n",
    "\n",
    "1. java 编辑 cluster\n",
    "\n",
    "2. 直接查看边栏，(相似的地址已经集中) -- 但是！如果分享给别人看，他们看不到 LIST BAR 边栏！！！！"
   ]
  }
 ],
 "metadata": {
  "interpreter": {
   "hash": "197f7c05eca0eda9aa6a4e612037c516df5659297f389f7c2f572b328809f0da"
  },
  "kernelspec": {
   "display_name": "Python 3 (ipykernel)",
   "language": "python",
   "name": "python3"
  },
  "language_info": {
   "codemirror_mode": {
    "name": "ipython",
    "version": 3
   },
   "file_extension": ".py",
   "mimetype": "text/x-python",
   "name": "python",
   "nbconvert_exporter": "python",
   "pygments_lexer": "ipython3",
   "version": "3.9.12"
  }
 },
 "nbformat": 4,
 "nbformat_minor": 4
}
